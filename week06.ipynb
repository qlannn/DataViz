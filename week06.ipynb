{
 "cells": [
  {
   "cell_type": "code",
   "execution_count": 1,
   "id": "ef1b6f22",
   "metadata": {},
   "outputs": [],
   "source": [
    "import bqplot\n",
    "import numpy as np\n",
    "import ipywidgets"
   ]
  },
  {
   "cell_type": "markdown",
   "id": "1308c2d0",
   "metadata": {},
   "source": [
    "1. Random Line plot"
   ]
  },
  {
   "cell_type": "code",
   "execution_count": 4,
   "id": "2365b4e8",
   "metadata": {},
   "outputs": [],
   "source": [
    "x = np.arange(200)"
   ]
  },
  {
   "cell_type": "code",
   "execution_count": 3,
   "id": "eee32970",
   "metadata": {},
   "outputs": [
    {
     "data": {
      "text/plain": [
       "array([ 0,  1,  2,  3,  4,  5,  6,  7,  8,  9, 10, 11, 12, 13, 14, 15, 16,\n",
       "       17, 18, 19, 20, 21, 22, 23, 24, 25, 26, 27, 28, 29, 30, 31, 32, 33,\n",
       "       34, 35, 36, 37, 38, 39, 40, 41, 42, 43, 44, 45, 46, 47, 48, 49, 50,\n",
       "       51, 52, 53, 54, 55, 56, 57, 58, 59, 60, 61, 62, 63, 64, 65, 66, 67,\n",
       "       68, 69, 70, 71, 72, 73, 74, 75, 76, 77, 78, 79, 80, 81, 82, 83, 84,\n",
       "       85, 86, 87, 88, 89, 90, 91, 92, 93, 94, 95, 96, 97, 98, 99])"
      ]
     },
     "execution_count": 3,
     "metadata": {},
     "output_type": "execute_result"
    }
   ],
   "source": [
    "x"
   ]
  },
  {
   "cell_type": "code",
   "execution_count": 5,
   "id": "f8096c30",
   "metadata": {},
   "outputs": [],
   "source": [
    "y = np.random.random(200)"
   ]
  },
  {
   "cell_type": "code",
   "execution_count": 6,
   "id": "24567741",
   "metadata": {},
   "outputs": [
    {
     "data": {
      "text/plain": [
       "array([0.42362663, 0.59317859, 0.05578036, 0.45457831, 0.20602512,\n",
       "       0.95945817, 0.00999188, 0.58377647, 0.05891527, 0.82901851,\n",
       "       0.00643721, 0.69655844, 0.34089191, 0.64505655, 0.36590367,\n",
       "       0.48645231, 0.72578387, 0.18502154, 0.52683136, 0.34743843,\n",
       "       0.75917155, 0.0807035 , 0.58024412, 0.60140135, 0.38333886,\n",
       "       0.85414883, 0.42623785, 0.37369243, 0.62423434, 0.64511937,\n",
       "       0.04627737, 0.27486771, 0.52637756, 0.9298766 , 0.60270445,\n",
       "       0.00968312, 0.41212104, 0.30481824, 0.31770872, 0.21950504,\n",
       "       0.03997044, 0.43429789, 0.76666375, 0.48804995, 0.86694999,\n",
       "       0.92757495, 0.84414682, 0.95124472, 0.13524649, 0.38565799,\n",
       "       0.36312668, 0.82191053, 0.37620819, 0.05042173, 0.66581343,\n",
       "       0.47797512, 0.16613116, 0.67094632, 0.48729265, 0.96900738,\n",
       "       0.620637  , 0.42277321, 0.56699583, 0.50759092, 0.56716994,\n",
       "       0.36806069, 0.64244105, 0.64971666, 0.39398253, 0.70970613,\n",
       "       0.55780122, 0.15230992, 0.16637114, 0.19958412, 0.90330949,\n",
       "       0.61308178, 0.34957572, 0.20898258, 0.57208894, 0.54996989,\n",
       "       0.4889536 , 0.13145686, 0.0646478 , 0.43500937, 0.84611527,\n",
       "       0.52251193, 0.56102767, 0.67386739, 0.04991689, 0.05460483,\n",
       "       0.75688735, 0.19357092, 0.92622115, 0.15169138, 0.90341079,\n",
       "       0.22134124, 0.45626984, 0.71331276, 0.65376192, 0.00334598,\n",
       "       0.53042573, 0.06132424, 0.28334022, 0.84896612, 0.63515748,\n",
       "       0.5525385 , 0.91112597, 0.19897102, 0.59582013, 0.14223471,\n",
       "       0.33686516, 0.67547034, 0.42473193, 0.13588868, 0.6990106 ,\n",
       "       0.97522473, 0.43717645, 0.6149645 , 0.67298982, 0.95467057,\n",
       "       0.10514494, 0.96900797, 0.86726741, 0.29944007, 0.58349824,\n",
       "       0.55588309, 0.91090341, 0.17887829, 0.75451841, 0.98141972,\n",
       "       0.44772142, 0.87317643, 0.34316054, 0.63186776, 0.09924713,\n",
       "       0.36067755, 0.83007357, 0.39092324, 0.7416923 , 0.86119576,\n",
       "       0.95302246, 0.48659538, 0.14305817, 0.91579897, 0.27145511,\n",
       "       0.4696805 , 0.48572912, 0.1354744 , 0.07539228, 0.41919035,\n",
       "       0.51381869, 0.83679703, 0.67751112, 0.21270003, 0.38427694,\n",
       "       0.40722336, 0.91693637, 0.76923739, 0.8345611 , 0.75339221,\n",
       "       0.10798737, 0.06874902, 0.79835647, 0.11361175, 0.01148211,\n",
       "       0.16607932, 0.80399267, 0.6810721 , 0.91247021, 0.84023489,\n",
       "       0.83397104, 0.2492751 , 0.17418941, 0.69898883, 0.20861602,\n",
       "       0.33430256, 0.81030385, 0.40629207, 0.4005577 , 0.26634807,\n",
       "       0.43306318, 0.70290577, 0.9374522 , 0.60067748, 0.31512007,\n",
       "       0.08318646, 0.16862784, 0.21912946, 0.68920776, 0.17662048,\n",
       "       0.41689996, 0.03416914, 0.98999577, 0.3931809 , 0.45513581,\n",
       "       0.3203942 , 0.37007872, 0.99987827, 0.45258543, 0.92144763])"
      ]
     },
     "execution_count": 6,
     "metadata": {},
     "output_type": "execute_result"
    }
   ],
   "source": [
    "y"
   ]
  },
  {
   "cell_type": "code",
   "execution_count": 7,
   "id": "95947fe1",
   "metadata": {},
   "outputs": [],
   "source": [
    "x_sc = bqplot.LinearScale()\n",
    "y_sc = bqplot.LinearScale()"
   ]
  },
  {
   "cell_type": "code",
   "execution_count": 8,
   "id": "6cff7b8f",
   "metadata": {},
   "outputs": [],
   "source": [
    "lines = bqplot.Lines(x=x, y=y, scales = {'x':x_sc, 'y':y_sc})"
   ]
  },
  {
   "cell_type": "code",
   "execution_count": 9,
   "id": "5baecb7d",
   "metadata": {},
   "outputs": [],
   "source": [
    "ax_x = bqplot.Axis(scale=x_sc, label='X Value')\n",
    "ax_y = bqplot.Axis(scale=y_sc, label='Y Value', orientation='vertical')"
   ]
  },
  {
   "cell_type": "code",
   "execution_count": 10,
   "id": "15aa8e65",
   "metadata": {},
   "outputs": [],
   "source": [
    "fig = bqplot.Figure(marks=[lines], axes=[ax_x, ax_y])"
   ]
  },
  {
   "cell_type": "code",
   "execution_count": 11,
   "id": "2eaa91c6",
   "metadata": {},
   "outputs": [
    {
     "data": {
      "application/vnd.jupyter.widget-view+json": {
       "model_id": "04bb620ad8844f1196e3197542a6b486",
       "version_major": 2,
       "version_minor": 0
      },
      "text/plain": [
       "Figure(axes=[Axis(label='X Value', scale=LinearScale(), side='bottom'), Axis(label='Y Value', orientation='ver…"
      ]
     },
     "metadata": {},
     "output_type": "display_data"
    }
   ],
   "source": [
    "fig"
   ]
  },
  {
   "cell_type": "code",
   "execution_count": 12,
   "id": "76417711",
   "metadata": {},
   "outputs": [],
   "source": [
    "bqplot.Lines?"
   ]
  },
  {
   "cell_type": "code",
   "execution_count": 13,
   "id": "53125847",
   "metadata": {},
   "outputs": [],
   "source": [
    "pz = bqplot.interacts.PanZoom( scales = {'x': [x_sc], 'y': [y_sc]})"
   ]
  },
  {
   "cell_type": "code",
   "execution_count": 14,
   "id": "c90c9e9a",
   "metadata": {},
   "outputs": [],
   "source": [
    "fig = bqplot.Figure(marks=[lines], axes=[ax_x, ax_y], interaction=pz)"
   ]
  },
  {
   "cell_type": "code",
   "execution_count": 15,
   "id": "c2972335",
   "metadata": {},
   "outputs": [
    {
     "data": {
      "application/vnd.jupyter.widget-view+json": {
       "model_id": "82ce8062b9404d59ad063931418387e4",
       "version_major": 2,
       "version_minor": 0
      },
      "text/plain": [
       "Figure(axes=[Axis(label='X Value', scale=LinearScale(), side='bottom'), Axis(label='Y Value', orientation='ver…"
      ]
     },
     "metadata": {},
     "output_type": "display_data"
    }
   ],
   "source": [
    "fig"
   ]
  },
  {
   "cell_type": "markdown",
   "id": "35306789",
   "metadata": {},
   "source": [
    "2. Random scatter plot"
   ]
  },
  {
   "cell_type": "code",
   "execution_count": 16,
   "id": "adc95908",
   "metadata": {},
   "outputs": [],
   "source": [
    "x = np.random.random(150)"
   ]
  },
  {
   "cell_type": "code",
   "execution_count": 17,
   "id": "2f19c6c9",
   "metadata": {},
   "outputs": [
    {
     "data": {
      "text/plain": [
       "array([0.30566796, 0.39284088, 0.30035237, 0.55086614, 0.15508039,\n",
       "       0.16708462, 0.31409576, 0.61725956, 0.18624949, 0.52747483,\n",
       "       0.27859136, 0.87734436, 0.24444242, 0.94260673, 0.19930788,\n",
       "       0.51491333, 0.58454452, 0.34283635, 0.31018149, 0.91225838,\n",
       "       0.54245663, 0.48477164, 0.31529625, 0.52528665, 0.01586104,\n",
       "       0.065169  , 0.82931803, 0.34381456, 0.34129433, 0.87589632,\n",
       "       0.98873431, 0.2414659 , 0.59047227, 0.86930287, 0.18034181,\n",
       "       0.87548202, 0.06156778, 0.28494784, 0.11857939, 0.62994016,\n",
       "       0.09370598, 0.75658743, 0.84886734, 0.57335369, 0.72760431,\n",
       "       0.21716128, 0.12386798, 0.16336555, 0.78983039, 0.21679395,\n",
       "       0.44296881, 0.31778578, 0.92959553, 0.40702315, 0.22219033,\n",
       "       0.79559048, 0.30599765, 0.23117427, 0.64168415, 0.86652279,\n",
       "       0.80084854, 0.43404553, 0.56860244, 0.38369369, 0.71128898,\n",
       "       0.50246399, 0.20667882, 0.19345985, 0.28376116, 0.70953967,\n",
       "       0.59453754, 0.66546229, 0.42214805, 0.32027922, 0.02729809,\n",
       "       0.27466588, 0.88874315, 0.37886514, 0.70663026, 0.32035077,\n",
       "       0.40722888, 0.49037789, 0.76524521, 0.32255751, 0.95552133,\n",
       "       0.35901948, 0.6043208 , 0.62067121, 0.68785667, 0.91305636,\n",
       "       0.54223019, 0.5500691 , 0.18564367, 0.67684876, 0.675437  ,\n",
       "       0.26853945, 0.35541832, 0.9985953 , 0.46533769, 0.52842189,\n",
       "       0.83889546, 0.30553246, 0.96282279, 0.94489776, 0.61053823,\n",
       "       0.21969227, 0.22130843, 0.86843114, 0.27991683, 0.72328071,\n",
       "       0.22174676, 0.33520262, 0.07813329, 0.91161246, 0.43902472,\n",
       "       0.99176395, 0.45733561, 0.77791145, 0.03556906, 0.99511749,\n",
       "       0.1136114 , 0.85107876, 0.22382859, 0.91881578, 0.18565476,\n",
       "       0.44576284, 0.21047306, 0.19202776, 0.55755134, 0.65888019,\n",
       "       0.86251939, 0.32016112, 0.85869862, 0.46646572, 0.52832632,\n",
       "       0.14351951, 0.89290885, 0.23853035, 0.15761904, 0.05822777,\n",
       "       0.84119299, 0.57584604, 0.01777683, 0.03849441, 0.76760012,\n",
       "       0.76455248, 0.38812892, 0.24754246, 0.99415994, 0.18043792])"
      ]
     },
     "execution_count": 17,
     "metadata": {},
     "output_type": "execute_result"
    }
   ],
   "source": [
    "x"
   ]
  },
  {
   "cell_type": "code",
   "execution_count": 30,
   "id": "ace2028f",
   "metadata": {},
   "outputs": [],
   "source": [
    "y = np.random.random(200)"
   ]
  },
  {
   "cell_type": "code",
   "execution_count": 31,
   "id": "2bb25970",
   "metadata": {},
   "outputs": [],
   "source": [
    "x_sc = bqplot.LinearScale()\n",
    "y_sc = bqplot.LinearScale()"
   ]
  },
  {
   "cell_type": "code",
   "execution_count": 32,
   "id": "dde8d8be",
   "metadata": {},
   "outputs": [],
   "source": [
    "ax_x = bqplot.Axis(scale = x_sc, label=\"X\")\n",
    "ax_y = bqplot.Axis(scale = y_sc, label=\"Y\", orientation='vertical')"
   ]
  },
  {
   "cell_type": "code",
   "execution_count": 33,
   "id": "18ececb9",
   "metadata": {},
   "outputs": [],
   "source": [
    "scatters = bqplot.Scatter(x = x, y = y, scales={'x':x_sc, 'y':y_sc})"
   ]
  },
  {
   "cell_type": "code",
   "execution_count": 34,
   "id": "dc462bda",
   "metadata": {},
   "outputs": [],
   "source": [
    "selector = bqplot.interacts.FastIntervalSelector(scale=x_sc, marks=[scatters])"
   ]
  },
  {
   "cell_type": "code",
   "execution_count": 35,
   "id": "cb99b335",
   "metadata": {},
   "outputs": [
    {
     "data": {
      "application/vnd.jupyter.widget-view+json": {
       "model_id": "0ef585e122aa4a4b996278a1febd935c",
       "version_major": 2,
       "version_minor": 0
      },
      "text/plain": [
       "Figure(axes=[Axis(label='X', scale=LinearScale(), side='bottom'), Axis(label='Y', orientation='vertical', scal…"
      ]
     },
     "metadata": {},
     "output_type": "display_data"
    }
   ],
   "source": [
    "fig = bqplot.Figure(marks=[scatters], axes=[ax_x, ax_y], interaction = selector)\n",
    "fig"
   ]
  },
  {
   "cell_type": "code",
   "execution_count": 40,
   "id": "1a4b29cc",
   "metadata": {},
   "outputs": [],
   "source": [
    "scatters.unselected_style = {'opacity':1} # a little see-through when not selected\n",
    "scatters.selected_style={'fill':'blue', 'stroke':'pink'}"
   ]
  },
  {
   "cell_type": "code",
   "execution_count": 41,
   "id": "fed12235",
   "metadata": {},
   "outputs": [
    {
     "data": {
      "application/vnd.jupyter.widget-view+json": {
       "model_id": "0ef585e122aa4a4b996278a1febd935c",
       "version_major": 2,
       "version_minor": 0
      },
      "text/plain": [
       "Figure(axes=[Axis(label='X', scale=LinearScale(), side='bottom'), Axis(label='Y', orientation='vertical', scal…"
      ]
     },
     "metadata": {},
     "output_type": "display_data"
    }
   ],
   "source": [
    "fig"
   ]
  },
  {
   "cell_type": "markdown",
   "id": "cb146172",
   "metadata": {},
   "source": [
    "3. Heatmap (2d Data) with random points"
   ]
  },
  {
   "cell_type": "code",
   "execution_count": 42,
   "id": "3f155663",
   "metadata": {},
   "outputs": [],
   "source": [
    "data = np.random.random((10,10) )"
   ]
  },
  {
   "cell_type": "code",
   "execution_count": 43,
   "id": "ef00319c",
   "metadata": {},
   "outputs": [
    {
     "data": {
      "text/plain": [
       "array([[0.30380062, 0.71988318, 0.83366745, 0.97062193, 0.66550022,\n",
       "        0.27209248, 0.07339014, 0.91889766, 0.97114139, 0.85596736],\n",
       "       [0.28830723, 0.3974712 , 0.29709165, 0.35325363, 0.65031349,\n",
       "        0.14798221, 0.66072775, 0.46089853, 0.67935222, 0.33713895],\n",
       "       [0.87156484, 0.29798534, 0.97736532, 0.96641327, 0.84144172,\n",
       "        0.12092815, 0.46475994, 0.47705785, 0.46462724, 0.75723152],\n",
       "       [0.13776091, 0.60895217, 0.18611581, 0.11168515, 0.07781973,\n",
       "        0.33900714, 0.79338197, 0.8224566 , 0.39291352, 0.73380652],\n",
       "       [0.49565555, 0.86292599, 0.68419398, 0.41666576, 0.03888006,\n",
       "        0.84323293, 0.45677628, 0.219961  , 0.16727487, 0.19782829],\n",
       "       [0.97350625, 0.73922886, 0.9324205 , 0.8587859 , 0.26372982,\n",
       "        0.52064183, 0.70389285, 0.47670145, 0.51699033, 0.08026905],\n",
       "       [0.87623288, 0.61758173, 0.77572402, 0.77001862, 0.58367708,\n",
       "        0.95608903, 0.22023171, 0.37984021, 0.94357054, 0.05140584],\n",
       "       [0.5816757 , 0.78737586, 0.82394032, 0.53941631, 0.06983352,\n",
       "        0.51600513, 0.42781235, 0.21498008, 0.37745393, 0.38766084],\n",
       "       [0.78252608, 0.94177632, 0.42907271, 0.329325  , 0.05729545,\n",
       "        0.89655043, 0.90424704, 0.05718259, 0.2832075 , 0.35175198],\n",
       "       [0.92896122, 0.06251903, 0.46789762, 0.82809903, 0.07441867,\n",
       "        0.85936466, 0.97134288, 0.21622176, 0.95984293, 0.81924436]])"
      ]
     },
     "execution_count": 43,
     "metadata": {},
     "output_type": "execute_result"
    }
   ],
   "source": [
    "data"
   ]
  },
  {
   "cell_type": "code",
   "execution_count": 45,
   "id": "eb85dc44",
   "metadata": {},
   "outputs": [
    {
     "data": {
      "text/plain": [
       "0.7198831777869346"
      ]
     },
     "execution_count": 45,
     "metadata": {},
     "output_type": "execute_result"
    }
   ],
   "source": [
    "data[0,1]"
   ]
  },
  {
   "cell_type": "code",
   "execution_count": 49,
   "id": "76737d04",
   "metadata": {},
   "outputs": [],
   "source": [
    "col_sc = bqplot.ColorScale()"
   ]
  },
  {
   "cell_type": "code",
   "execution_count": 50,
   "id": "99a6e1f5",
   "metadata": {},
   "outputs": [],
   "source": [
    "heat_map = bqplot.GridHeatMap(color = data, scales = {'color':col_sc})"
   ]
  },
  {
   "cell_type": "code",
   "execution_count": 51,
   "id": "7d47bd1a",
   "metadata": {},
   "outputs": [],
   "source": [
    "fig = bqplot.Figure(marks = [heat_map])"
   ]
  },
  {
   "cell_type": "code",
   "execution_count": 52,
   "id": "aba42e7d",
   "metadata": {},
   "outputs": [
    {
     "data": {
      "application/vnd.jupyter.widget-view+json": {
       "model_id": "6e6952a2a3bc4994b46431b0de71f186",
       "version_major": 2,
       "version_minor": 0
      },
      "text/plain": [
       "Figure(fig_margin={'top': 60, 'bottom': 60, 'left': 60, 'right': 60}, marks=[GridHeatMap(color=array([[0.30380…"
      ]
     },
     "metadata": {},
     "output_type": "display_data"
    }
   ],
   "source": [
    "fig"
   ]
  },
  {
   "cell_type": "code",
   "execution_count": 67,
   "id": "c11f8dab",
   "metadata": {},
   "outputs": [],
   "source": [
    "col_sc = bqplot.ColorScale(scheme=\"Greens\") "
   ]
  },
  {
   "cell_type": "code",
   "execution_count": 68,
   "id": "a7213a91",
   "metadata": {},
   "outputs": [],
   "source": [
    "heat_map = bqplot.GridHeatMap(color = data, scales = {'color':col_sc})"
   ]
  },
  {
   "cell_type": "code",
   "execution_count": 69,
   "id": "dbc07b54",
   "metadata": {},
   "outputs": [],
   "source": [
    "fig = bqplot.Figure(marks = [heat_map] )"
   ]
  },
  {
   "cell_type": "code",
   "execution_count": 70,
   "id": "f523f1a7",
   "metadata": {},
   "outputs": [
    {
     "data": {
      "application/vnd.jupyter.widget-view+json": {
       "model_id": "a22f244904e7426b9ef7a076b8d55e9c",
       "version_major": 2,
       "version_minor": 0
      },
      "text/plain": [
       "Figure(fig_margin={'top': 60, 'bottom': 60, 'left': 60, 'right': 60}, marks=[GridHeatMap(color=array([[0.30380…"
      ]
     },
     "metadata": {},
     "output_type": "display_data"
    }
   ],
   "source": [
    "fig"
   ]
  },
  {
   "cell_type": "code",
   "execution_count": 71,
   "id": "550a3dd9",
   "metadata": {},
   "outputs": [],
   "source": [
    "data3d = np.random.random( (10,10, 10))"
   ]
  },
  {
   "cell_type": "code",
   "execution_count": 72,
   "id": "0d446489",
   "metadata": {},
   "outputs": [
    {
     "data": {
      "text/plain": [
       "(10, 10, 10)"
      ]
     },
     "execution_count": 72,
     "metadata": {},
     "output_type": "execute_result"
    }
   ],
   "source": [
    "data3d.shape"
   ]
  },
  {
   "cell_type": "code",
   "execution_count": null,
   "id": "0f0087cd",
   "metadata": {},
   "outputs": [],
   "source": []
  }
 ],
 "metadata": {
  "kernelspec": {
   "display_name": "Python 3 (ipykernel)",
   "language": "python",
   "name": "python3"
  },
  "language_info": {
   "codemirror_mode": {
    "name": "ipython",
    "version": 3
   },
   "file_extension": ".py",
   "mimetype": "text/x-python",
   "name": "python",
   "nbconvert_exporter": "python",
   "pygments_lexer": "ipython3",
   "version": "3.9.7"
  }
 },
 "nbformat": 4,
 "nbformat_minor": 5
}
